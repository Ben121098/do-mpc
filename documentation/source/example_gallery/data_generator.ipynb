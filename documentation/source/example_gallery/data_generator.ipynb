{
 "cells": [
  {
   "cell_type": "markdown",
   "id": "intermediate-soundtrack",
   "metadata": {},
   "source": [
    "# Efficient data generation and handling with do-mpc\n",
    "\n",
    "We start by importing basic modules and **do-mpc**."
   ]
  },
  {
   "cell_type": "code",
   "execution_count": 1,
   "id": "generic-stephen",
   "metadata": {},
   "outputs": [],
   "source": [
    "import numpy as np\n",
    "import sys\n",
    "from casadi import *\n",
    "import os\n",
    "\n",
    "# Add do_mpc to path. This is not necessary if it was installed via pip\n",
    "sys.path.append('../../../')\n",
    "\n",
    "# Import do_mpc package:\n",
    "import do_mpc\n",
    "\n",
    "import matplotlib.pyplot as plt\n",
    "\n",
    "import pandas as pd"
   ]
  },
  {
   "cell_type": "markdown",
   "id": "tracked-storm",
   "metadata": {},
   "source": [
    "## Toy example\n"
   ]
  },
  {
   "cell_type": "markdown",
   "id": "bound-penetration",
   "metadata": {},
   "source": [
    "**Step 1:** Create the ``sampling_plan`` with the ``SamplingPlanner``.\n",
    "\n",
    "The planner is initiated and we set some (optional) parameters."
   ]
  },
  {
   "cell_type": "code",
   "execution_count": 2,
   "id": "mechanical-pierce",
   "metadata": {},
   "outputs": [],
   "source": [
    "sp = do_mpc.sampling.SamplingPlanner()\n",
    "sp.set_param(overwrite = True)\n",
    "sp.set_param(save_format='pickle')"
   ]
  },
  {
   "cell_type": "markdown",
   "id": "convinced-attendance",
   "metadata": {},
   "source": [
    "We then introduce new variables to the ``SamplingPlanner`` which should be sampled. These variables are later varied for each sample.\n",
    "\n",
    "For each variable we need to provide a function which generates a sample value for the corresponding variable."
   ]
  },
  {
   "cell_type": "code",
   "execution_count": 3,
   "id": "common-priest",
   "metadata": {},
   "outputs": [],
   "source": [
    "sp.set_sampling_var('alpha', np.random.randn)\n",
    "sp.set_sampling_var('beta', lambda: np.random.randint(0,5))"
   ]
  },
  {
   "cell_type": "markdown",
   "id": "affiliated-formation",
   "metadata": {},
   "source": [
    "In this example we have two variables ``alpha`` and ``beta``. We have:\n",
    "\n",
    "$$\n",
    "\\alpha \\sim \\mathcal{N}(\\mu,\\sigma)\n",
    "$$\n",
    "\n",
    "and \n",
    "\n",
    "$$\n",
    "\\beta\\sim \\mathcal{U}([0,5])\n",
    "$$"
   ]
  },
  {
   "cell_type": "markdown",
   "id": "timely-nelson",
   "metadata": {},
   "source": [
    "The sampling plan is created by calling:\n",
    "\n",
    "```python\n",
    "SamplingPlanner.gen_sampling_plan(sampling_plan_name, n_samples)\n",
    "```"
   ]
  },
  {
   "cell_type": "code",
   "execution_count": 6,
   "id": "metropolitan-gothic",
   "metadata": {},
   "outputs": [],
   "source": [
    "plan = sp.gen_sampling_plan('test_sampling_plan', n_samples=10)"
   ]
  },
  {
   "cell_type": "markdown",
   "id": "purple-dealer",
   "metadata": {},
   "source": [
    "Note that this call returns the ``sampling_plan`` as well as saves it to disc. This allows to create a sampling plan on one device and execute parts of it on other devices. The filename is the same as the ``sampling_plan_name``"
   ]
  },
  {
   "cell_type": "markdown",
   "id": "alert-constraint",
   "metadata": {},
   "source": [
    "**Step 2:** Create the ``Sampler`` object by providing the ``sampling_plan``:"
   ]
  },
  {
   "cell_type": "code",
   "execution_count": 8,
   "id": "fancy-romance",
   "metadata": {},
   "outputs": [],
   "source": [
    "sampler = do_mpc.sampling.Sampler(plan)"
   ]
  },
  {
   "cell_type": "markdown",
   "id": "another-spiritual",
   "metadata": {},
   "source": [
    "Most important settting of the sampler is the ``sample_function``. This function takes as arguments the defined ``sampling_var`` (the same keywords):"
   ]
  },
  {
   "cell_type": "code",
   "execution_count": 9,
   "id": "color-street",
   "metadata": {},
   "outputs": [],
   "source": [
    "def sample_function(alpha, beta):\n",
    "    return alpha*beta\n",
    "\n",
    "sampler.set_sample_function(sample_function)"
   ]
  },
  {
   "cell_type": "markdown",
   "id": "international-oxford",
   "metadata": {},
   "source": [
    "Now we can actually create all the samples:"
   ]
  },
  {
   "cell_type": "code",
   "execution_count": 10,
   "id": "mathematical-upset",
   "metadata": {},
   "outputs": [
    {
     "name": "stdout",
     "output_type": "stream",
     "text": [
      "\r",
      "Progress: |█████---------------------------------------------| 10.0% Complete\r",
      "\r",
      "Progress: |██████████----------------------------------------| 20.0% Complete\r",
      "\r",
      "Progress: |███████████████-----------------------------------| 30.0% Complete\r",
      "\r",
      "Progress: |████████████████████------------------------------| 40.0% Complete\r",
      "\r",
      "Progress: |█████████████████████████-------------------------| 50.0% Complete\r",
      "\r",
      "Progress: |██████████████████████████████--------------------| 60.0% Complete\r",
      "\r",
      "Progress: |███████████████████████████████████---------------| 70.0% Complete\r",
      "\r",
      "Progress: |████████████████████████████████████████----------| 80.0% Complete\r",
      "\r",
      "Progress: |█████████████████████████████████████████████-----| 90.0% Complete\r",
      "\r",
      "Progress: |██████████████████████████████████████████████████| 100.0% Complete\r\n"
     ]
    }
   ],
   "source": [
    "sampler.sample_data()"
   ]
  },
  {
   "cell_type": "markdown",
   "id": "silent-watch",
   "metadata": {},
   "source": [
    "The sampler will now create the sampling results as a new file for each result and store them in a subfolder with the same name as the ``sampling_plan``:"
   ]
  },
  {
   "cell_type": "code",
   "execution_count": 12,
   "id": "prescribed-riverside",
   "metadata": {
    "scrolled": true
   },
   "outputs": [
    {
     "data": {
      "text/plain": [
       "['test_sampling_plan_00.pkl',\n",
       " 'test_sampling_plan_01.pkl',\n",
       " 'test_sampling_plan_02.pkl',\n",
       " 'test_sampling_plan_03.pkl',\n",
       " 'test_sampling_plan_04.pkl',\n",
       " 'test_sampling_plan_05.pkl',\n",
       " 'test_sampling_plan_06.pkl',\n",
       " 'test_sampling_plan_07.pkl',\n",
       " 'test_sampling_plan_08.pkl',\n",
       " 'test_sampling_plan_09.pkl']"
      ]
     },
     "execution_count": 12,
     "metadata": {},
     "output_type": "execute_result"
    }
   ],
   "source": [
    "ls = os.listdir('./test_sampling_plan/')\n",
    "ls.sort()\n",
    "ls"
   ]
  },
  {
   "cell_type": "markdown",
   "id": "falling-lying",
   "metadata": {},
   "source": [
    "**Step 3:** Process data in the data handler class. The first step is to initiate the class with the ``sampling_plan``:"
   ]
  },
  {
   "cell_type": "code",
   "execution_count": 13,
   "id": "fleet-norway",
   "metadata": {},
   "outputs": [],
   "source": [
    "dh = do_mpc.sampling.DataHandler(plan)"
   ]
  },
  {
   "cell_type": "markdown",
   "id": "grateful-feelings",
   "metadata": {},
   "source": [
    "We then define how post-processing should be done. For this toy example we do some \"dummy\" post-processing and request to compute two results:"
   ]
  },
  {
   "cell_type": "code",
   "execution_count": 14,
   "id": "current-characteristic",
   "metadata": {},
   "outputs": [],
   "source": [
    "dh.set_post_processing('res_1', lambda x: x)\n",
    "dh.set_post_processing('res_2', lambda x: x**2)"
   ]
  },
  {
   "cell_type": "markdown",
   "id": "juvenile-district",
   "metadata": {},
   "source": [
    "The interface of ``DataHandler.set_post_processing`` requires a name that we will see again later and a function that processes the output of the previously defined ``sample_function``."
   ]
  },
  {
   "cell_type": "markdown",
   "id": "worst-tucson",
   "metadata": {},
   "source": [
    "We can now obtain **obtain processed data** from the ``DataHandler`` in two ways:\n",
    "\n",
    "**1. Indexing**:"
   ]
  },
  {
   "cell_type": "code",
   "execution_count": 15,
   "id": "cloudy-investigation",
   "metadata": {
    "scrolled": true
   },
   "outputs": [
    {
     "data": {
      "text/plain": [
       "{'alpha': [-0.12247445889036378, -1.3251862172292217, 0.36828329367273743],\n",
       " 'beta': [4, 3, 0],\n",
       " 'id': ['00', '01', '02'],\n",
       " 'res_1': [-0.4898978355614551, -3.975558651687665, 0.0],\n",
       " 'res_2': [0.2399998892877985, 15.805066593008645, 0.0]}"
      ]
     },
     "execution_count": 15,
     "metadata": {},
     "output_type": "execute_result"
    }
   ],
   "source": [
    "dh[:3]"
   ]
  },
  {
   "cell_type": "markdown",
   "id": "saving-accessory",
   "metadata": {},
   "source": [
    "Or we use a more complex filter with the ``DataHandler.filter`` method. This method reequires a function which in turn must contain argument(s) with the same names as the introduced in the ``SamplingPlanner``."
   ]
  },
  {
   "cell_type": "code",
   "execution_count": 16,
   "id": "smaller-letter",
   "metadata": {},
   "outputs": [
    {
     "data": {
      "text/plain": [
       "{'alpha': [-0.12247445889036378,\n",
       "  -1.3251862172292217,\n",
       "  -0.06990603420085585,\n",
       "  -1.252424500755703,\n",
       "  -1.4235389183405416,\n",
       "  -0.362726217072821,\n",
       "  -0.01543271242471949],\n",
       " 'beta': [4, 3, 1, 3, 4, 3, 0],\n",
       " 'id': ['00', '01', '03', '04', '07', '08', '09'],\n",
       " 'res_1': [-0.4898978355614551,\n",
       "  -3.975558651687665,\n",
       "  -0.06990603420085585,\n",
       "  -3.7572735022671093,\n",
       "  -5.694155673362166,\n",
       "  -1.088178651218463,\n",
       "  -0.0],\n",
       " 'res_2': [0.2399998892877985,\n",
       "  15.805066593008645,\n",
       "  0.004886853617691228,\n",
       "  14.11710417083855,\n",
       "  32.423408832482544,\n",
       "  1.1841327769676333,\n",
       "  0.0]}"
      ]
     },
     "execution_count": 16,
     "metadata": {},
     "output_type": "execute_result"
    }
   ],
   "source": [
    "dh.filter(lambda alpha: alpha<0)"
   ]
  },
  {
   "cell_type": "markdown",
   "id": "pretty-price",
   "metadata": {},
   "source": [
    "Note that in many cases the result from the ``DataHandler``can be readily converted to a pandas ``DataFrame``:"
   ]
  },
  {
   "cell_type": "code",
   "execution_count": 17,
   "id": "sixth-defeat",
   "metadata": {},
   "outputs": [
    {
     "data": {
      "text/html": [
       "<div>\n",
       "<style scoped>\n",
       "    .dataframe tbody tr th:only-of-type {\n",
       "        vertical-align: middle;\n",
       "    }\n",
       "\n",
       "    .dataframe tbody tr th {\n",
       "        vertical-align: top;\n",
       "    }\n",
       "\n",
       "    .dataframe thead th {\n",
       "        text-align: right;\n",
       "    }\n",
       "</style>\n",
       "<table border=\"1\" class=\"dataframe\">\n",
       "  <thead>\n",
       "    <tr style=\"text-align: right;\">\n",
       "      <th></th>\n",
       "      <th>alpha</th>\n",
       "      <th>beta</th>\n",
       "      <th>id</th>\n",
       "      <th>res_1</th>\n",
       "      <th>res_2</th>\n",
       "    </tr>\n",
       "  </thead>\n",
       "  <tbody>\n",
       "    <tr>\n",
       "      <th>0</th>\n",
       "      <td>-0.122474</td>\n",
       "      <td>4</td>\n",
       "      <td>00</td>\n",
       "      <td>-0.489898</td>\n",
       "      <td>0.240000</td>\n",
       "    </tr>\n",
       "    <tr>\n",
       "      <th>1</th>\n",
       "      <td>-1.325186</td>\n",
       "      <td>3</td>\n",
       "      <td>01</td>\n",
       "      <td>-3.975559</td>\n",
       "      <td>15.805067</td>\n",
       "    </tr>\n",
       "    <tr>\n",
       "      <th>2</th>\n",
       "      <td>-0.069906</td>\n",
       "      <td>1</td>\n",
       "      <td>03</td>\n",
       "      <td>-0.069906</td>\n",
       "      <td>0.004887</td>\n",
       "    </tr>\n",
       "    <tr>\n",
       "      <th>3</th>\n",
       "      <td>-1.252425</td>\n",
       "      <td>3</td>\n",
       "      <td>04</td>\n",
       "      <td>-3.757274</td>\n",
       "      <td>14.117104</td>\n",
       "    </tr>\n",
       "    <tr>\n",
       "      <th>4</th>\n",
       "      <td>-1.423539</td>\n",
       "      <td>4</td>\n",
       "      <td>07</td>\n",
       "      <td>-5.694156</td>\n",
       "      <td>32.423409</td>\n",
       "    </tr>\n",
       "    <tr>\n",
       "      <th>5</th>\n",
       "      <td>-0.362726</td>\n",
       "      <td>3</td>\n",
       "      <td>08</td>\n",
       "      <td>-1.088179</td>\n",
       "      <td>1.184133</td>\n",
       "    </tr>\n",
       "    <tr>\n",
       "      <th>6</th>\n",
       "      <td>-0.015433</td>\n",
       "      <td>0</td>\n",
       "      <td>09</td>\n",
       "      <td>-0.000000</td>\n",
       "      <td>0.000000</td>\n",
       "    </tr>\n",
       "  </tbody>\n",
       "</table>\n",
       "</div>"
      ],
      "text/plain": [
       "      alpha  beta  id     res_1      res_2\n",
       "0 -0.122474     4  00 -0.489898   0.240000\n",
       "1 -1.325186     3  01 -3.975559  15.805067\n",
       "2 -0.069906     1  03 -0.069906   0.004887\n",
       "3 -1.252425     3  04 -3.757274  14.117104\n",
       "4 -1.423539     4  07 -5.694156  32.423409\n",
       "5 -0.362726     3  08 -1.088179   1.184133\n",
       "6 -0.015433     0  09 -0.000000   0.000000"
      ]
     },
     "execution_count": 17,
     "metadata": {},
     "output_type": "execute_result"
    }
   ],
   "source": [
    "pd.DataFrame(dh.filter(lambda alpha: alpha<0))"
   ]
  },
  {
   "cell_type": "markdown",
   "id": "individual-official",
   "metadata": {},
   "source": [
    "# Sampling closed-loop trajectories\n",
    "\n",
    "A more reasonable use-case in the scope of **do-mpc** is to sample closed-loop trajectories of a dynamical system with a (MPC) controller. \n",
    "\n",
    "The approach is almost identical to our toy example above. The main difference lies in the ``sample_function`` that is passed to the ``Sampler`` and the ``post_processing`` in the ``DataHandler``.\n",
    "\n",
    "The considered use-case will be simple oscillating mass example that is also part of the do-mpc example library. "
   ]
  },
  {
   "cell_type": "code",
   "execution_count": 15,
   "id": "atmospheric-wrestling",
   "metadata": {},
   "outputs": [],
   "source": [
    "sys.path.append('../../../examples/oscillating_masses_discrete/')\n",
    "from template_model import template_model\n",
    "from template_mpc import template_mpc\n",
    "from template_simulator import template_simulator"
   ]
  },
  {
   "cell_type": "markdown",
   "id": "departmental-surge",
   "metadata": {},
   "source": [
    "**Step 1:** Create the ``sampling plan`` with the ``SamplingPlanner``\n",
    "\n",
    "We want to generate various closed-loop trajectories of the system starting from random initial states, hence we design the ``SamplingPlanner`` as follows:"
   ]
  },
  {
   "cell_type": "code",
   "execution_count": 16,
   "id": "pregnant-bristol",
   "metadata": {},
   "outputs": [],
   "source": [
    "# Initialize sampling planner\n",
    "sp = do_mpc.sampling.SamplingPlanner()\n",
    "sp.set_param(overwrite=True)\n",
    "\n",
    "# Sample random feasible initial states\n",
    "def gen_initial_states():\n",
    "    \n",
    "    x0 = np.random.uniform(-3*np.ones((4,1)),3*np.ones((4,1)))\n",
    "    \n",
    "    return x0\n",
    "\n",
    "# Add sampling variable including the corresponding evaluation function\n",
    "sp.set_sampling_var('X0', gen_initial_states)"
   ]
  },
  {
   "cell_type": "markdown",
   "id": "third-luxury",
   "metadata": {},
   "source": [
    "This implementation is sufficient to generate the sampling plan:"
   ]
  },
  {
   "cell_type": "code",
   "execution_count": 17,
   "id": "buried-worthy",
   "metadata": {},
   "outputs": [],
   "source": [
    "plan = sp.gen_sampling_plan('oscillating_masses', n_samples=10)"
   ]
  },
  {
   "cell_type": "markdown",
   "id": "realistic-sunglasses",
   "metadata": {},
   "source": [
    "Since we want to run the system in the closed-loop in our sample function, we need to load the corresponding configuration:"
   ]
  },
  {
   "cell_type": "code",
   "execution_count": 18,
   "id": "voluntary-customer",
   "metadata": {},
   "outputs": [],
   "source": [
    "model = template_model()\n",
    "mpc = template_mpc(model)\n",
    "estimator = do_mpc.estimator.StateFeedback(model)\n",
    "simulator = template_simulator(model)"
   ]
  },
  {
   "cell_type": "markdown",
   "id": "analyzed-pride",
   "metadata": {},
   "source": [
    "We can now define the sampling function:"
   ]
  },
  {
   "cell_type": "code",
   "execution_count": 19,
   "id": "sublime-operator",
   "metadata": {},
   "outputs": [],
   "source": [
    "def run_closed_loop(X0):\n",
    "    mpc.reset_history()\n",
    "    simulator.reset_history()\n",
    "    estimator.reset_history()\n",
    "\n",
    "    # set initial values and guess\n",
    "    x0 = X0\n",
    "    mpc.x0 = x0\n",
    "    simulator.x0 = x0\n",
    "    estimator.x0 = x0\n",
    "\n",
    "    mpc.set_initial_guess()\n",
    "\n",
    "    # run the closed loop for 150 steps\n",
    "    for k in range(10):\n",
    "        u0 = mpc.make_step(x0)\n",
    "        y_next = simulator.make_step(u0)\n",
    "        x0 = estimator.make_step(y_next)\n",
    "\n",
    "    # we return the complete data structure that we have obtained during the closed-loop run\n",
    "    return mpc.data"
   ]
  },
  {
   "cell_type": "markdown",
   "id": "earlier-exemption",
   "metadata": {},
   "source": [
    "Now we have all the ingredients to make our sampler:"
   ]
  },
  {
   "cell_type": "code",
   "execution_count": 20,
   "id": "significant-appendix",
   "metadata": {},
   "outputs": [
    {
     "name": "stdout",
     "output_type": "stream",
     "text": [
      "\r",
      "Progress: |█████---------------------------------------------| 10.0% Complete\r",
      "\r",
      "Progress: |██████████----------------------------------------| 20.0% Complete\r",
      "\r",
      "Progress: |███████████████-----------------------------------| 30.0% Complete\r",
      "\r",
      "Progress: |████████████████████------------------------------| 40.0% Complete\r",
      "\r",
      "Progress: |█████████████████████████-------------------------| 50.0% Complete\r",
      "\r",
      "Progress: |██████████████████████████████--------------------| 60.0% Complete\r",
      "\r",
      "Progress: |███████████████████████████████████---------------| 70.0% Complete\r",
      "\r",
      "Progress: |████████████████████████████████████████----------| 80.0% Complete\r",
      "\r",
      "Progress: |█████████████████████████████████████████████-----| 90.0% Complete\r",
      "\r",
      "Progress: |██████████████████████████████████████████████████| 100.0% Complete\r\n"
     ]
    }
   ],
   "source": [
    "# Initialize sampler with generated plan\n",
    "sampler = do_mpc.sampling.Sampler(plan)\n",
    "\n",
    "# Set the sampling function\n",
    "sampler.set_sample_function(run_closed_loop)\n",
    "\n",
    "# Generate the data\n",
    "sampler.sample_data()"
   ]
  },
  {
   "cell_type": "markdown",
   "id": "aggressive-techno",
   "metadata": {},
   "source": [
    "**Step 3:** Process data in the data handler class. The first step is to initiate the class with the ``sampling_plan``:"
   ]
  },
  {
   "cell_type": "code",
   "execution_count": 21,
   "id": "variable-hurricane",
   "metadata": {},
   "outputs": [],
   "source": [
    "# Initialize DataHandler\n",
    "dh = do_mpc.sampling.DataHandler(plan)"
   ]
  },
  {
   "cell_type": "markdown",
   "id": "guided-possible",
   "metadata": {},
   "source": [
    "In this case, we are interested in the states and the inputs of all trajectories. We define the following post processing functions:"
   ]
  },
  {
   "cell_type": "code",
   "execution_count": 22,
   "id": "careful-repair",
   "metadata": {},
   "outputs": [],
   "source": [
    "dh.set_post_processing('input', lambda data: data['_u', 'u'])\n",
    "dh.set_post_processing('state', lambda data: data['_x', 'x'])"
   ]
  },
  {
   "cell_type": "markdown",
   "id": "sorted-fashion",
   "metadata": {},
   "source": [
    "Since we want to have all bla bla bla, we do not need to to filter our data:"
   ]
  },
  {
   "cell_type": "code",
   "execution_count": 23,
   "id": "sufficient-awareness",
   "metadata": {},
   "outputs": [],
   "source": [
    "final_data = dh[:]"
   ]
  },
  {
   "cell_type": "code",
   "execution_count": 24,
   "id": "reliable-vegetation",
   "metadata": {},
   "outputs": [
    {
     "data": {
      "text/plain": [
       "{'X0': [array([[-0.47174792],\n",
       "         [-1.05760168],\n",
       "         [-0.76417566],\n",
       "         [ 1.01076908]]),\n",
       "  array([[-0.8305777 ],\n",
       "         [ 1.55993182],\n",
       "         [-1.70828974],\n",
       "         [ 1.24334325]]),\n",
       "  array([[ 2.54954606],\n",
       "         [-1.54331618],\n",
       "         [ 0.22384772],\n",
       "         [-1.59216515]]),\n",
       "  array([[ 0.61251651],\n",
       "         [ 1.73073021],\n",
       "         [-1.4029336 ],\n",
       "         [ 1.78302413]]),\n",
       "  array([[-2.11412962],\n",
       "         [-0.68188384],\n",
       "         [ 1.68079124],\n",
       "         [-0.53383205]]),\n",
       "  array([[-2.52078374],\n",
       "         [-1.00300361],\n",
       "         [ 1.39946715],\n",
       "         [-0.28328409]]),\n",
       "  array([[ 1.88359815],\n",
       "         [-2.56905323],\n",
       "         [-2.30150597],\n",
       "         [-0.22519468]]),\n",
       "  array([[-1.10451676],\n",
       "         [-1.33526398],\n",
       "         [ 1.81986969],\n",
       "         [-0.05775321]]),\n",
       "  array([[0.6452349 ],\n",
       "         [1.99605008],\n",
       "         [1.19699149],\n",
       "         [1.99219379]]),\n",
       "  array([[2.68045447],\n",
       "         [1.46766259],\n",
       "         [1.10306808],\n",
       "         [2.07619334]])],\n",
       " 'id': ['00', '01', '02', '03', '04', '05', '06', '07', '08', '09'],\n",
       " 'input': [array([[ 0.5       ],\n",
       "         [ 0.5       ],\n",
       "         [ 0.5       ],\n",
       "         [ 0.5       ],\n",
       "         [ 0.5       ],\n",
       "         [ 0.36644198],\n",
       "         [-0.5       ],\n",
       "         [-0.5       ],\n",
       "         [-0.5       ],\n",
       "         [-0.5       ]]),\n",
       "  array([[ 0.5       ],\n",
       "         [ 0.5       ],\n",
       "         [-0.5       ],\n",
       "         [-0.5       ],\n",
       "         [ 0.44268357],\n",
       "         [ 0.5       ],\n",
       "         [ 0.5       ],\n",
       "         [-0.18406596],\n",
       "         [-0.5       ],\n",
       "         [-0.5       ]]),\n",
       "  array([[-0.5       ],\n",
       "         [-0.5       ],\n",
       "         [-0.5       ],\n",
       "         [-0.5       ],\n",
       "         [ 0.20045992],\n",
       "         [ 0.5       ],\n",
       "         [ 0.5       ],\n",
       "         [ 0.5       ],\n",
       "         [ 0.5       ],\n",
       "         [ 0.5       ]]),\n",
       "  array([[ 0.5],\n",
       "         [ 0.5],\n",
       "         [ 0.5],\n",
       "         [ 0.5],\n",
       "         [ 0.5],\n",
       "         [ 0.5],\n",
       "         [-0.5],\n",
       "         [-0.5],\n",
       "         [-0.5],\n",
       "         [-0.5]]),\n",
       "  array([[ 0.5       ],\n",
       "         [ 0.5       ],\n",
       "         [-0.5       ],\n",
       "         [-0.5       ],\n",
       "         [-0.5       ],\n",
       "         [-0.5       ],\n",
       "         [-0.34956339],\n",
       "         [ 0.5       ],\n",
       "         [ 0.5       ],\n",
       "         [ 0.5       ]]),\n",
       "  array([[ 0.5       ],\n",
       "         [ 0.5       ],\n",
       "         [ 0.5       ],\n",
       "         [ 0.5       ],\n",
       "         [-0.5       ],\n",
       "         [-0.5       ],\n",
       "         [-0.5       ],\n",
       "         [-0.5       ],\n",
       "         [-0.39659911],\n",
       "         [ 0.5       ]]),\n",
       "  array([[-0.1801388 ],\n",
       "         [ 0.5       ],\n",
       "         [-0.49999999],\n",
       "         [-0.5       ],\n",
       "         [-0.5       ],\n",
       "         [-0.5       ],\n",
       "         [ 0.13083388],\n",
       "         [ 0.5       ],\n",
       "         [ 0.5       ],\n",
       "         [ 0.5       ]]),\n",
       "  array([[-0.5       ],\n",
       "         [ 0.5       ],\n",
       "         [ 0.5       ],\n",
       "         [ 0.5       ],\n",
       "         [-0.5       ],\n",
       "         [-0.5       ],\n",
       "         [-0.00840101],\n",
       "         [ 0.5       ],\n",
       "         [ 0.5       ],\n",
       "         [ 0.5       ]]),\n",
       "  array([[-0.5],\n",
       "         [-0.5],\n",
       "         [ 0.5],\n",
       "         [ 0.5],\n",
       "         [-0.5],\n",
       "         [-0.5],\n",
       "         [-0.5],\n",
       "         [-0.5],\n",
       "         [ 0.5],\n",
       "         [ 0.5]]),\n",
       "  array([[ 0.4687029 ],\n",
       "         [-0.5       ],\n",
       "         [-0.5       ],\n",
       "         [-0.5       ],\n",
       "         [-0.5       ],\n",
       "         [-0.05427511],\n",
       "         [ 0.5       ],\n",
       "         [ 0.5       ],\n",
       "         [ 0.5       ],\n",
       "         [ 0.5       ]])],\n",
       " 'state': [array([[ 2.63011955, -0.80879771,  2.28712601, -2.69337093],\n",
       "         [ 1.85088634, -2.29923486,  0.90291431, -2.91602983],\n",
       "         [ 0.40709279, -3.34288244, -0.37508287, -2.34019047],\n",
       "         [-1.31005246, -3.31175243, -1.27221782, -1.47831834],\n",
       "         [-2.69184756, -2.02196804, -1.75711972, -0.73180663],\n",
       "         [-3.19368989,  0.0865613 , -1.91681522, -0.15832013],\n",
       "         [-2.61543715,  2.13699012, -1.81991671,  0.40550763],\n",
       "         [-1.22074336,  3.23256981, -1.57059841,  0.9092777 ],\n",
       "         [ 0.38612167,  2.97731465, -0.96633293,  1.78128018],\n",
       "         [ 1.58167289,  1.69205509,  0.07552714,  2.54891237]]),\n",
       "  array([[ 2.65806783,  0.69165595, -0.4501224 , -2.75923973],\n",
       "         [ 2.24631862, -2.33673347, -1.18268274, -0.32121095],\n",
       "         [ 0.50361098, -4.30453409, -0.728052  ,  1.6763773 ],\n",
       "         [-1.65302894, -3.88160423,  0.07695446,  1.46658982],\n",
       "         [-3.01561746, -1.30611231,  0.35511716, -0.27433067],\n",
       "         [-2.86017836,  1.85996665, -0.1303229 , -1.78286201],\n",
       "         [-1.3703758 ,  3.76219015, -1.10077407, -2.04704217],\n",
       "         [ 0.52448087,  3.43628397, -1.75337943, -0.53170325],\n",
       "         [ 1.76601991,  1.34121497, -1.4940496 ,  1.71850095],\n",
       "         [ 1.81998639, -1.0256781 , -0.23003282,  3.36683489]]),\n",
       "  array([[-0.73412425,  2.50772444, -0.55485527,  1.8599709 ],\n",
       "         [ 0.5598075 ,  2.52272889,  0.28746224,  1.71452881],\n",
       "         [ 1.64793714,  1.70798016,  1.01234938,  1.3914899 ],\n",
       "         [ 2.18029689,  0.37540145,  1.52568031,  0.85665602],\n",
       "         [ 2.02183755, -0.96585443,  1.70589801,  0.0574378 ],\n",
       "         [ 1.29850248, -1.8188674 ,  1.58551744, -0.67810997],\n",
       "         [ 0.3298507 , -1.93571487,  1.12126966, -1.4230768 ],\n",
       "         [-0.53126828, -1.4347068 ,  0.31063196, -1.99439894],\n",
       "         [-1.06248813, -0.68446155, -0.65970132, -2.00560848],\n",
       "         [-1.23450858, -0.04328686, -1.45130737, -1.27866588]]),\n",
       "  array([[ 2.9999922 , -2.30692608,  2.68977525, -0.28566576],\n",
       "         [ 1.53841889, -3.32882355,  2.33025285, -1.4578707 ],\n",
       "         [-0.11162356, -3.08037989,  1.3282041 , -2.76043143],\n",
       "         [-1.39760868, -1.97808417, -0.22032303, -3.51789025],\n",
       "         [-2.06498909, -0.71842107, -1.87612267, -3.11705517],\n",
       "         [-2.17715558,  0.19333705, -3.00666914, -1.45809266],\n",
       "         [-1.94016347,  0.70579734, -3.10081733,  0.88179928],\n",
       "         [-1.50163596,  1.05029397, -2.27979881,  2.54324567],\n",
       "         [-0.88092496,  1.45480278, -0.83177574,  3.29663228],\n",
       "         [-0.03965803,  1.90023296,  0.69909564,  2.87691065]]),\n",
       "  array([[-1.77062093,  1.89237491, -0.44080496, -1.90803647],\n",
       "         [-0.56234461,  2.66260799, -1.26930487, -1.40208584],\n",
       "         [ 0.62871896,  1.87426978, -1.51435657,  0.32482876],\n",
       "         [ 1.16722224,  0.23467504, -1.00674476,  1.90535389],\n",
       "         [ 0.91387252, -1.10549283,  0.1367406 ,  2.69256953],\n",
       "         [ 0.25133459, -1.32948588,  1.31540054,  2.00469553],\n",
       "         [-0.23543024, -0.48883931,  1.81762432,  0.11620725],\n",
       "         [-0.1980423 ,  0.59341095,  1.32619792, -1.82876511],\n",
       "         [ 0.24480022,  1.00900772,  0.27025041, -2.41903522],\n",
       "         [ 0.64062421,  0.41661362, -0.74772295, -1.68632701]]),\n",
       "  array([[-0.30826604, -0.46061269,  2.08983306, -2.09961043],\n",
       "         [-0.24175023,  0.59345837,  0.69455898, -3.47970488],\n",
       "         [ 0.10581561,  0.59319091, -0.97614785, -3.12921073],\n",
       "         [ 0.18576391, -0.3808649 , -2.04970513, -1.21387136],\n",
       "         [-0.28645351, -1.42657304, -1.99806029,  1.13422244],\n",
       "         [-1.08888011, -1.57120326, -1.17475129,  2.19380155],\n",
       "         [-1.65178939, -0.49253324, -0.1543318 ,  1.90845398],\n",
       "         [-1.47345967,  1.23230866,  0.44982722,  0.6610018 ],\n",
       "         [-0.49943758,  2.49833439,  0.39197731, -0.56068786],\n",
       "         [ 0.79647419,  2.43038915, -0.05395477, -0.84819964]]),\n",
       "  array([[-2.50111933,  2.74045976,  0.07957656, -0.81127603],\n",
       "         [-0.65733872,  4.26825375, -0.58510026, -1.49197113],\n",
       "         [ 1.37172133,  3.46180633, -1.01246709, -0.21410192],\n",
       "         [ 2.51133853,  0.92682285, -0.7545152 ,  1.53757884],\n",
       "         [ 2.27947214, -1.72210232,  0.32843156,  2.82932863],\n",
       "         [ 1.03442638, -2.93139547,  1.6692817 ,  2.4393543 ],\n",
       "         [-0.32542011, -2.21648   ,  2.34559604,  0.27439168],\n",
       "         [-0.99081329, -0.37367365,  1.86307133, -2.2428856 ],\n",
       "         [-0.75148493,  1.16168627,  0.37887905, -3.66183689],\n",
       "         [-0.06167297,  1.33146953, -1.3480473 , -3.13312356]]),\n",
       "  array([[-1.95160707,  2.41526179,  2.28561961,  0.50580332],\n",
       "         [-0.11209345,  4.58396712,  1.68996771, -2.39426396],\n",
       "         [ 2.17655858,  4.064285  ,  0.37737254, -2.6825274 ],\n",
       "         [ 3.52703259,  1.02582911, -0.50393742, -0.82097894],\n",
       "         [ 3.09563488, -2.66266099, -0.22552923,  1.60945684],\n",
       "         [ 1.13639863, -4.75572083,  0.76051613,  2.24122699],\n",
       "         [-1.19527553, -4.10457948,  1.53630965,  0.77323172],\n",
       "         [-2.60807916, -1.32359901,  1.30648595, -1.76829211],\n",
       "         [-2.4769399 ,  1.71162763, -0.03246667, -3.58784489],\n",
       "         [-1.171047  ,  3.13800269, -1.81529625, -3.36831569]]),\n",
       "  array([[-2.97666136, -2.1396518 , -0.20768005,  1.85743984],\n",
       "         [-3.24916686,  1.1383442 ,  0.20035335, -0.07582676],\n",
       "         [-1.94095188,  3.83348596, -0.343398  , -1.65521398],\n",
       "         [ 0.21686221,  4.36678876, -1.05945086, -1.14506236],\n",
       "         [ 2.0364506 ,  2.59174916, -1.11231476,  0.85552657],\n",
       "         [ 2.62821076, -0.25355112, -0.27962714,  2.62259815],\n",
       "         [ 1.90198613, -2.40356559,  1.17971286,  3.14361732],\n",
       "         [ 0.53711458, -2.71831068,  2.40634197,  1.67694229],\n",
       "         [-0.53733632, -1.38492506,  2.50433434, -1.15431207],\n",
       "         [-0.77514093,  0.37694206,  1.40083137, -3.33358432]]),\n",
       "  array([[-0.75545252,  1.16581524, -1.70135478, -0.3813507 ],\n",
       "         [-0.23685624,  0.83977279, -1.43353241,  1.22734002],\n",
       "         [ 0.05826475,  0.36124089, -0.65015183,  2.03880033],\n",
       "         [ 0.16963536,  0.15314506,  0.34520757,  2.02260504],\n",
       "         [ 0.27302948,  0.31043425,  1.10586266,  1.13826458],\n",
       "         [ 0.49406074,  0.55527058,  1.29448199, -0.15880234],\n",
       "         [ 0.77732234,  0.50151168,  0.97056828, -1.03346283],\n",
       "         [ 0.92173841,  0.00413108,  0.475073  , -1.0934238 ],\n",
       "         [ 0.74495162, -0.7202039 ,  0.07608829, -0.69026777],\n",
       "         [ 0.23904909, -1.2351508 , -0.07770245, -0.18152145]])]}"
      ]
     },
     "execution_count": 24,
     "metadata": {},
     "output_type": "execute_result"
    }
   ],
   "source": [
    "final_data"
   ]
  }
 ],
 "metadata": {
  "kernelspec": {
   "display_name": "Python 3",
   "language": "python",
   "name": "python3"
  },
  "language_info": {
   "codemirror_mode": {
    "name": "ipython",
    "version": 3
   },
   "file_extension": ".py",
   "mimetype": "text/x-python",
   "name": "python",
   "nbconvert_exporter": "python",
   "pygments_lexer": "ipython3",
   "version": "3.8.5"
  }
 },
 "nbformat": 4,
 "nbformat_minor": 5
}
